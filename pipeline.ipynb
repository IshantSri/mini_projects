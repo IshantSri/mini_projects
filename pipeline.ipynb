{
 "cells": [
  {
   "cell_type": "markdown",
   "id": "d9bd3ac2",
   "metadata": {},
   "source": [
    "install and import pipeline and make_pipeline"
   ]
  },
  {
   "cell_type": "markdown",
   "id": "bd850d1b",
   "metadata": {},
   "source": [
    "pipe = make_pipeline(saare transformers ke naam)\n",
    "pipe.fit(x_train and y_train)\n",
    "#exploration part\n",
    "display pipeline\n",
    "pipe.pridict(y_test)\n",
    "expport using pickle "
   ]
  },
  {
   "cell_type": "code",
   "execution_count": null,
   "id": "fd7231f0",
   "metadata": {},
   "outputs": [],
   "source": [
    "_"
   ]
  }
 ],
 "metadata": {
  "kernelspec": {
   "display_name": "Python 3",
   "language": "python",
   "name": "python3"
  },
  "language_info": {
   "codemirror_mode": {
    "name": "ipython",
    "version": 3
   },
   "file_extension": ".py",
   "mimetype": "text/x-python",
   "name": "python",
   "nbconvert_exporter": "python",
   "pygments_lexer": "ipython3",
   "version": "3.8.8"
  }
 },
 "nbformat": 4,
 "nbformat_minor": 5
}
