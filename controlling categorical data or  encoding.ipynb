{
 "cells": [
  {
   "cell_type": "markdown",
   "id": "697864a0",
   "metadata": {},
   "source": [
    "# ordinal encoding"
   ]
  },
  {
   "cell_type": "code",
   "execution_count": 2,
   "id": "11f9fdac",
   "metadata": {},
   "outputs": [],
   "source": [
    "from sklearn.preprocessing import OrdinalEncoder as oe"
   ]
  },
  {
   "cell_type": "code",
   "execution_count": null,
   "id": "14fb0cfb",
   "metadata": {},
   "outputs": [],
   "source": [
    "ordnlenc = oe(categories = [[]])#here one will have to define parameter of targated ordinal variable and the procedure will be same as performed in feature transformation"
   ]
  },
  {
   "cell_type": "code",
   "execution_count": null,
   "id": "2ed0b10e",
   "metadata": {},
   "outputs": [],
   "source": [
    "from sklearn.preprocesing import LabelEncoder#will be used only for output variables"
   ]
  },
  {
   "cell_type": "code",
   "execution_count": null,
   "id": "b2082f34",
   "metadata": {},
   "outputs": [],
   "source": [
    "#the procedure will be same as performed in feature transformation"
   ]
  },
  {
   "cell_type": "markdown",
   "id": "91519ef9",
   "metadata": {},
   "source": [
    "# NOMINAL ENCODING"
   ]
  },
  {
   "cell_type": "markdown",
   "id": "2a6551b5",
   "metadata": {},
   "source": [
    "one hot encoding"
   ]
  },
  {
   "cell_type": "code",
   "execution_count": 1,
   "id": "b960534a",
   "metadata": {},
   "outputs": [],
   "source": [
    "#ohe using pandas\n",
    "import pandas as pd\n",
    "pd.get_dummies(df,columns = [],drop_first=True)"
   ]
  },
  {
   "cell_type": "code",
   "execution_count": null,
   "id": "d1ee2b93",
   "metadata": {},
   "outputs": [],
   "source": [
    "# in sklearn\n",
    "    # train test split\n",
    "from sklearn.preprocessing import OneHotEncoder\n",
    "ohe = OneHotEncoding()\n",
    "x_train_new = ohe.fit_transform(x_train[[ #'features' ]],drop = , sparse= ).toarray()\n",
    "x_test_new = ohe.transform(same as above).toarray()\n",
    "\n"
   ]
  }
 ],
 "metadata": {
  "kernelspec": {
   "display_name": "Python 3",
   "language": "python",
   "name": "python3"
  },
  "language_info": {
   "codemirror_mode": {
    "name": "ipython",
    "version": 3
   },
   "file_extension": ".py",
   "mimetype": "text/x-python",
   "name": "python",
   "nbconvert_exporter": "python",
   "pygments_lexer": "ipython3",
   "version": "3.8.8"
  }
 },
 "nbformat": 4,
 "nbformat_minor": 5
}
